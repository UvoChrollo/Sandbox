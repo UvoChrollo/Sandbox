{
 "cells": [
  {
   "cell_type": "code",
   "execution_count": 1,
   "id": "1334f9b8",
   "metadata": {},
   "outputs": [],
   "source": [
    "import pandas as pd\n",
    "import matplotlib.pyplot as plt\n",
    "import seaborn as sns\n",
    "import datetime"
   ]
  },
  {
   "cell_type": "code",
   "execution_count": 2,
   "id": "22b7a4f9",
   "metadata": {},
   "outputs": [],
   "source": [
    "def preprocessing(datapath, col_name):\n",
    "    data = pd.read_excel(datapath)\n",
    "    data = data.transpose()\n",
    "    data = data.iloc[2:]\n",
    "    data = data.rename(\n",
    "        columns={\n",
    "            0:col_name\n",
    "        })\n",
    "    return data"
   ]
  },
  {
   "cell_type": "code",
   "execution_count": 3,
   "id": "dc327aa8",
   "metadata": {},
   "outputs": [],
   "source": [
    "telur_ayam = preprocessing(\"hargapangan/telur_ayam.xls\",\"Telur Ayam\")\n",
    "minyak_goreng = preprocessing(\"hargapangan/minyak_goreng.xls\",\"Minyak Goreng\")\n",
    "beras = preprocessing(\"hargapangan/beras.xls\",\"Beras\")"
   ]
  },
  {
   "cell_type": "code",
   "execution_count": 4,
   "id": "af3ac94e",
   "metadata": {},
   "outputs": [],
   "source": [
    "bawang_merah_putih = pd.read_excel(\"hargapangan/bawang_merah_putih.xls\")\n",
    "bawang_merah_putih = bawang_merah_putih.transpose()\n",
    "bawang_merah_putih = bawang_merah_putih.iloc[2:]\n",
    "bawang_merah_putih = bawang_merah_putih.rename(\n",
    "    columns={0:'Bawang Merah',1:'Bawang Putih'}\n",
    ")"
   ]
  },
  {
   "cell_type": "code",
   "execution_count": 5,
   "id": "fa153537",
   "metadata": {},
   "outputs": [
    {
     "data": {
      "text/html": [
       "<div>\n",
       "<style scoped>\n",
       "    .dataframe tbody tr th:only-of-type {\n",
       "        vertical-align: middle;\n",
       "    }\n",
       "\n",
       "    .dataframe tbody tr th {\n",
       "        vertical-align: top;\n",
       "    }\n",
       "\n",
       "    .dataframe thead th {\n",
       "        text-align: right;\n",
       "    }\n",
       "</style>\n",
       "<table border=\"1\" class=\"dataframe\">\n",
       "  <thead>\n",
       "    <tr style=\"text-align: right;\">\n",
       "      <th></th>\n",
       "      <th>Beras</th>\n",
       "    </tr>\n",
       "  </thead>\n",
       "  <tbody>\n",
       "    <tr>\n",
       "      <th>Jan 2018 (I)</th>\n",
       "      <td>13000</td>\n",
       "    </tr>\n",
       "    <tr>\n",
       "      <th>Jan 2018 (II)</th>\n",
       "      <td>13500</td>\n",
       "    </tr>\n",
       "    <tr>\n",
       "      <th>Jan 2018 (III)</th>\n",
       "      <td>13700</td>\n",
       "    </tr>\n",
       "    <tr>\n",
       "      <th>Jan 2018 (IV)</th>\n",
       "      <td>14000</td>\n",
       "    </tr>\n",
       "    <tr>\n",
       "      <th>Jan 2018 (V)</th>\n",
       "      <td>14000</td>\n",
       "    </tr>\n",
       "  </tbody>\n",
       "</table>\n",
       "</div>"
      ],
      "text/plain": [
       "                Beras\n",
       "Jan 2018 (I)    13000\n",
       "Jan 2018 (II)   13500\n",
       "Jan 2018 (III)  13700\n",
       "Jan 2018 (IV)   14000\n",
       "Jan 2018 (V)    14000"
      ]
     },
     "execution_count": 5,
     "metadata": {},
     "output_type": "execute_result"
    }
   ],
   "source": [
    "beras.head()"
   ]
  },
  {
   "cell_type": "code",
   "execution_count": 6,
   "id": "8493d21c",
   "metadata": {},
   "outputs": [
    {
     "name": "stdout",
     "output_type": "stream",
     "text": [
      "193\n",
      "157\n",
      "193\n",
      "157\n"
     ]
    }
   ],
   "source": [
    "print(minyak_goreng.shape[0])\n",
    "print(beras.shape[0])\n",
    "print(telur_ayam.shape[0])\n",
    "print(bawang_merah_putih.shape[0])"
   ]
  },
  {
   "cell_type": "code",
   "execution_count": 7,
   "id": "b2152bc0",
   "metadata": {},
   "outputs": [],
   "source": [
    "df_merge_col = pd.merge(telur_ayam, beras, left_index=True, right_index=True)\n",
    "df_merge_col = pd.merge(df_merge_col, minyak_goreng, left_index=True, right_index=True)\n",
    "df_merge_col = pd.merge(df_merge_col, bawang_merah_putih, left_index=True, right_index=True)"
   ]
  },
  {
   "cell_type": "code",
   "execution_count": 8,
   "id": "b8df4e6c",
   "metadata": {},
   "outputs": [
    {
     "data": {
      "text/html": [
       "<div>\n",
       "<style scoped>\n",
       "    .dataframe tbody tr th:only-of-type {\n",
       "        vertical-align: middle;\n",
       "    }\n",
       "\n",
       "    .dataframe tbody tr th {\n",
       "        vertical-align: top;\n",
       "    }\n",
       "\n",
       "    .dataframe thead th {\n",
       "        text-align: right;\n",
       "    }\n",
       "</style>\n",
       "<table border=\"1\" class=\"dataframe\">\n",
       "  <thead>\n",
       "    <tr style=\"text-align: right;\">\n",
       "      <th></th>\n",
       "      <th>Telur Ayam</th>\n",
       "      <th>Beras</th>\n",
       "      <th>Minyak Goreng</th>\n",
       "      <th>Bawang Merah</th>\n",
       "      <th>Bawang Putih</th>\n",
       "    </tr>\n",
       "  </thead>\n",
       "  <tbody>\n",
       "    <tr>\n",
       "      <th>Jan 2018 (I)</th>\n",
       "      <td>26050</td>\n",
       "      <td>13000</td>\n",
       "      <td>13500</td>\n",
       "      <td>28750</td>\n",
       "      <td>31250</td>\n",
       "    </tr>\n",
       "    <tr>\n",
       "      <th>Jan 2018 (II)</th>\n",
       "      <td>25050</td>\n",
       "      <td>13500</td>\n",
       "      <td>13450</td>\n",
       "      <td>28700</td>\n",
       "      <td>31250</td>\n",
       "    </tr>\n",
       "    <tr>\n",
       "      <th>Jan 2018 (III)</th>\n",
       "      <td>23750</td>\n",
       "      <td>13700</td>\n",
       "      <td>13450</td>\n",
       "      <td>26150</td>\n",
       "      <td>30750</td>\n",
       "    </tr>\n",
       "    <tr>\n",
       "      <th>Jan 2018 (IV)</th>\n",
       "      <td>23100</td>\n",
       "      <td>14000</td>\n",
       "      <td>13450</td>\n",
       "      <td>25950</td>\n",
       "      <td>30250</td>\n",
       "    </tr>\n",
       "    <tr>\n",
       "      <th>Jan 2018 (V)</th>\n",
       "      <td>22550</td>\n",
       "      <td>14000</td>\n",
       "      <td>13450</td>\n",
       "      <td>27300</td>\n",
       "      <td>30350</td>\n",
       "    </tr>\n",
       "  </tbody>\n",
       "</table>\n",
       "</div>"
      ],
      "text/plain": [
       "               Telur Ayam  Beras Minyak Goreng Bawang Merah Bawang Putih\n",
       "Jan 2018 (I)        26050  13000         13500        28750        31250\n",
       "Jan 2018 (II)       25050  13500         13450        28700        31250\n",
       "Jan 2018 (III)      23750  13700         13450        26150        30750\n",
       "Jan 2018 (IV)       23100  14000         13450        25950        30250\n",
       "Jan 2018 (V)        22550  14000         13450        27300        30350"
      ]
     },
     "execution_count": 8,
     "metadata": {},
     "output_type": "execute_result"
    }
   ],
   "source": [
    "df_merge_col.head()"
   ]
  },
  {
   "cell_type": "code",
   "execution_count": 9,
   "id": "539a326a",
   "metadata": {},
   "outputs": [
    {
     "data": {
      "text/plain": [
       "(157, 5)"
      ]
     },
     "execution_count": 9,
     "metadata": {},
     "output_type": "execute_result"
    }
   ],
   "source": [
    "df_merge_col.shape"
   ]
  },
  {
   "cell_type": "code",
   "execution_count": 10,
   "id": "f9b4a1a4",
   "metadata": {},
   "outputs": [
    {
     "data": {
      "text/plain": [
       "Telur Ayam       0\n",
       "Beras            0\n",
       "Minyak Goreng    0\n",
       "Bawang Merah     0\n",
       "Bawang Putih     0\n",
       "dtype: int64"
      ]
     },
     "execution_count": 10,
     "metadata": {},
     "output_type": "execute_result"
    }
   ],
   "source": [
    "df_merge_col.isnull().sum()"
   ]
  },
  {
   "cell_type": "code",
   "execution_count": 11,
   "id": "21236066",
   "metadata": {},
   "outputs": [
    {
     "data": {
      "image/png": "[encoded data removed]",
      "text/plain": [
       "<Figure size 1080x576 with 5 Axes>"
      ]
     },
     "metadata": {
      "needs_background": "light"
     },
     "output_type": "display_data"
    }
   ],
   "source": [
    "df_merge_col.plot(subplots=True, figsize=(15,8));"
   ]
  },
  {
   "cell_type": "code",
   "execution_count": 12,
   "id": "23fea8da",
   "metadata": {},
   "outputs": [],
   "source": [
    "df_merge_col.to_csv(\"data_harga_pangan.csv\", index=False)"
   ]
  },
  {
   "cell_type": "code",
   "execution_count": 19,
   "id": "e256b649",
   "metadata": {},
   "outputs": [
    {
     "name": "stdout",
     "output_type": "stream",
     "text": [
      "Empty DataFrame\n",
      "Columns: []\n",
      "Index: []\n"
     ]
    }
   ],
   "source": [
    "df = pd.read_clipboard(header=None)\n",
    "print(df.corr())"
   ]
  },
  {
   "cell_type": "code",
   "execution_count": 20,
   "id": "55045c31",
   "metadata": {},
   "outputs": [
    {
     "data": {
      "text/html": [
       "<div>\n",
       "<style scoped>\n",
       "    .dataframe tbody tr th:only-of-type {\n",
       "        vertical-align: middle;\n",
       "    }\n",
       "\n",
       "    .dataframe tbody tr th {\n",
       "        vertical-align: top;\n",
       "    }\n",
       "\n",
       "    .dataframe thead th {\n",
       "        text-align: right;\n",
       "    }\n",
       "</style>\n",
       "<table border=\"1\" class=\"dataframe\">\n",
       "  <thead>\n",
       "    <tr style=\"text-align: right;\">\n",
       "      <th></th>\n",
       "      <th>Telur Ayam</th>\n",
       "      <th>Beras</th>\n",
       "      <th>Minyak Goreng</th>\n",
       "      <th>Bawang Merah</th>\n",
       "      <th>Bawang Putih</th>\n",
       "    </tr>\n",
       "  </thead>\n",
       "  <tbody>\n",
       "    <tr>\n",
       "      <th>Telur Ayam</th>\n",
       "      <td>1.000000</td>\n",
       "      <td>-0.009722</td>\n",
       "      <td>0.208945</td>\n",
       "      <td>0.206281</td>\n",
       "      <td>0.005603</td>\n",
       "    </tr>\n",
       "    <tr>\n",
       "      <th>Beras</th>\n",
       "      <td>-0.009722</td>\n",
       "      <td>1.000000</td>\n",
       "      <td>0.668120</td>\n",
       "      <td>0.156622</td>\n",
       "      <td>-0.129684</td>\n",
       "    </tr>\n",
       "    <tr>\n",
       "      <th>Minyak Goreng</th>\n",
       "      <td>0.208945</td>\n",
       "      <td>0.668120</td>\n",
       "      <td>1.000000</td>\n",
       "      <td>0.190613</td>\n",
       "      <td>-0.136822</td>\n",
       "    </tr>\n",
       "    <tr>\n",
       "      <th>Bawang Merah</th>\n",
       "      <td>0.206281</td>\n",
       "      <td>0.156622</td>\n",
       "      <td>0.190613</td>\n",
       "      <td>1.000000</td>\n",
       "      <td>0.315265</td>\n",
       "    </tr>\n",
       "    <tr>\n",
       "      <th>Bawang Putih</th>\n",
       "      <td>0.005603</td>\n",
       "      <td>-0.129684</td>\n",
       "      <td>-0.136822</td>\n",
       "      <td>0.315265</td>\n",
       "      <td>1.000000</td>\n",
       "    </tr>\n",
       "  </tbody>\n",
       "</table>\n",
       "</div>"
      ],
      "text/plain": [
       "               Telur Ayam     Beras  Minyak Goreng  Bawang Merah  Bawang Putih\n",
       "Telur Ayam       1.000000 -0.009722       0.208945      0.206281      0.005603\n",
       "Beras           -0.009722  1.000000       0.668120      0.156622     -0.129684\n",
       "Minyak Goreng    0.208945  0.668120       1.000000      0.190613     -0.136822\n",
       "Bawang Merah     0.206281  0.156622       0.190613      1.000000      0.315265\n",
       "Bawang Putih     0.005603 -0.129684      -0.136822      0.315265      1.000000"
      ]
     },
     "execution_count": 20,
     "metadata": {},
     "output_type": "execute_result"
    }
   ],
   "source": [
    "corr = df_merge_col.astype('float64').corr()\n",
    "corr"
   ]
  },
  {
   "cell_type": "code",
   "execution_count": null,
   "id": "f6a9cf3e",
   "metadata": {},
   "outputs": [],
   "source": [
    "df_merge_col['Telur Ayam'].desc()"
   ]
  }
 ],
 "metadata": {
  "kernelspec": {
   "display_name": "Python 3 (ipykernel)",
   "language": "python",
   "name": "python3"
  },
  "language_info": {
   "codemirror_mode": {
    "name": "ipython",
    "version": 3
   },
   "file_extension": ".py",
   "mimetype": "text/x-python",
   "name": "python",
   "nbconvert_exporter": "python",
   "pygments_lexer": "ipython3",
   "version": "3.9.12"
  }
 },
 "nbformat": 4,
 "nbformat_minor": 5
}
