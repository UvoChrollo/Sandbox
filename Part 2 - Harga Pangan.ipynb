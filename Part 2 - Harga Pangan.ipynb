{
 "cells": [
  {
   "cell_type": "code",
   "execution_count": null,
   "id": "26646906",
   "metadata": {},
   "outputs": [],
   "source": [
    "import pandas as pd\n",
    "import matplotlib.pyplot as plt\n",
    "import seaborn as sns\n",
    "import datetime"
   ]
  },
  {
   "cell_type": "markdown",
   "id": "f6859f11",
   "metadata": {},
   "source": [
    "**Telur**"
   ]
  },
  {
   "cell_type": "code",
   "execution_count": null,
   "id": "45ac81fc",
   "metadata": {},
   "outputs": [],
   "source": [
    "telur = pd.read_excel(\"dataset/Harga Bahan Pokok/telur_ayam.xls\")\n",
    "telur = telur.transpose()\n",
    "telur.head()"
   ]
  },
  {
   "cell_type": "code",
   "execution_count": null,
   "id": "6e975f9c",
   "metadata": {},
   "outputs": [],
   "source": [
    "telur.reset_index(inplace=True)\n",
    "telur.head()"
   ]
  },
  {
   "cell_type": "code",
   "execution_count": null,
   "id": "fe534ced",
   "metadata": {},
   "outputs": [],
   "source": [
    "telur['index'] = [dt[:8] for dt in telur['index']]\n",
    "telur.drop(labels='index',axis=1,inplace=True)\n",
    "telur.set_index('index',inplace=True)\n",
    "telur.head()"
   ]
  },
  {
   "cell_type": "code",
   "execution_count": null,
   "id": "6dbf87d1",
   "metadata": {},
   "outputs": [],
   "source": [
    "telur.groupby(telur.index).mean().head()"
   ]
  }
 ],
 "metadata": {
  "kernelspec": {
   "display_name": "Python 3 (ipykernel)",
   "language": "python",
   "name": "python3"
  },
  "language_info": {
   "codemirror_mode": {
    "name": "ipython",
    "version": 3
   },
   "file_extension": ".py",
   "mimetype": "text/x-python",
   "name": "python",
   "nbconvert_exporter": "python",
   "pygments_lexer": "ipython3",
   "version": "3.9.12"
  }
 },
 "nbformat": 4,
 "nbformat_minor": 5
}
